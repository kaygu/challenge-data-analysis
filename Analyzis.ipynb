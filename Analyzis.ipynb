{
 "cells": [
  {
   "cell_type": "markdown",
   "id": "24c0e3b7-e274-47b2-a5de-f502357cfa56",
   "metadata": {},
   "source": [
    "# Analyzing Housing data"
   ]
  },
  {
   "cell_type": "code",
   "execution_count": 2,
   "id": "022de63c-76a4-4ab6-bd62-163ddfda7edd",
   "metadata": {},
   "outputs": [],
   "source": [
    "import pandas as pd\n",
    "\n",
    "import matplotlib.pyplot as plt\n",
    "import seaborn as sns\n",
    "\n",
    "%matplotlib inline\n",
    "pd.options.display.float_format = '{:.2f}'.format"
   ]
  },
  {
   "cell_type": "code",
   "execution_count": 3,
   "id": "cc330c30-5e63-4caf-adb9-9df0c83eda47",
   "metadata": {},
   "outputs": [
    {
     "data": {
      "text/plain": [
       "(17515, 31)"
      ]
     },
     "execution_count": 3,
     "metadata": {},
     "output_type": "execute_result"
    }
   ],
   "source": [
    "df = pd.read_csv(\"cleaned_sales.csv\", index_col=\"id\")\n",
    "df[\"ppm\"] = df.apply(lambda x: x.price / x.living_surface if x.living_surface > 0 else None, axis=1)\n",
    "df.shape"
   ]
  },
  {
   "cell_type": "code",
   "execution_count": 4,
   "id": "fde5bd38-e219-4899-b4ac-03e83c9b958a",
   "metadata": {},
   "outputs": [],
   "source": [
    "municipalities = df[df.region == \"Wallonie\"].groupby(by=\"postal_code\")[\"price\"].agg({'count', 'mean', 'median'})"
   ]
  },
  {
   "cell_type": "code",
   "execution_count": 5,
   "id": "378cf576-7838-469e-9d7b-9b2991ae00af",
   "metadata": {},
   "outputs": [
    {
     "data": {
      "text/html": [
       "<div>\n",
       "<style scoped>\n",
       "    .dataframe tbody tr th:only-of-type {\n",
       "        vertical-align: middle;\n",
       "    }\n",
       "\n",
       "    .dataframe tbody tr th {\n",
       "        vertical-align: top;\n",
       "    }\n",
       "\n",
       "    .dataframe thead th {\n",
       "        text-align: right;\n",
       "    }\n",
       "</style>\n",
       "<table border=\"1\" class=\"dataframe\">\n",
       "  <thead>\n",
       "    <tr style=\"text-align: right;\">\n",
       "      <th></th>\n",
       "      <th>median</th>\n",
       "      <th>mean</th>\n",
       "      <th>count</th>\n",
       "    </tr>\n",
       "    <tr>\n",
       "      <th>postal_code</th>\n",
       "      <th></th>\n",
       "      <th></th>\n",
       "      <th></th>\n",
       "    </tr>\n",
       "  </thead>\n",
       "  <tbody>\n",
       "    <tr>\n",
       "      <th>7301</th>\n",
       "      <td>124500.00</td>\n",
       "      <td>144250.00</td>\n",
       "      <td>12</td>\n",
       "    </tr>\n",
       "    <tr>\n",
       "      <th>7340</th>\n",
       "      <td>125000.00</td>\n",
       "      <td>134256.10</td>\n",
       "      <td>41</td>\n",
       "    </tr>\n",
       "    <tr>\n",
       "      <th>7390</th>\n",
       "      <td>129750.00</td>\n",
       "      <td>144130.77</td>\n",
       "      <td>26</td>\n",
       "    </tr>\n",
       "    <tr>\n",
       "      <th>6200</th>\n",
       "      <td>132500.00</td>\n",
       "      <td>145351.43</td>\n",
       "      <td>35</td>\n",
       "    </tr>\n",
       "    <tr>\n",
       "      <th>7321</th>\n",
       "      <td>137450.00</td>\n",
       "      <td>213103.85</td>\n",
       "      <td>13</td>\n",
       "    </tr>\n",
       "    <tr>\n",
       "      <th>7012</th>\n",
       "      <td>140000.00</td>\n",
       "      <td>146855.56</td>\n",
       "      <td>18</td>\n",
       "    </tr>\n",
       "    <tr>\n",
       "      <th>6060</th>\n",
       "      <td>145000.00</td>\n",
       "      <td>144988.89</td>\n",
       "      <td>27</td>\n",
       "    </tr>\n",
       "    <tr>\n",
       "      <th>7370</th>\n",
       "      <td>147500.00</td>\n",
       "      <td>171159.09</td>\n",
       "      <td>44</td>\n",
       "    </tr>\n",
       "    <tr>\n",
       "      <th>7141</th>\n",
       "      <td>149000.00</td>\n",
       "      <td>163800.00</td>\n",
       "      <td>15</td>\n",
       "    </tr>\n",
       "    <tr>\n",
       "      <th>7080</th>\n",
       "      <td>149000.00</td>\n",
       "      <td>166207.89</td>\n",
       "      <td>38</td>\n",
       "    </tr>\n",
       "  </tbody>\n",
       "</table>\n",
       "</div>"
      ],
      "text/plain": [
       "               median      mean  count\n",
       "postal_code                           \n",
       "7301        124500.00 144250.00     12\n",
       "7340        125000.00 134256.10     41\n",
       "7390        129750.00 144130.77     26\n",
       "6200        132500.00 145351.43     35\n",
       "7321        137450.00 213103.85     13\n",
       "7012        140000.00 146855.56     18\n",
       "6060        145000.00 144988.89     27\n",
       "7370        147500.00 171159.09     44\n",
       "7141        149000.00 163800.00     15\n",
       "7080        149000.00 166207.89     38"
      ]
     },
     "execution_count": 5,
     "metadata": {},
     "output_type": "execute_result"
    }
   ],
   "source": [
    "municipalities[municipalities[\"count\"] > 10].sort_values(by=\"median\", ascending=True).head(10)"
   ]
  },
  {
   "cell_type": "code",
   "execution_count": 6,
   "id": "ae49b0fa-abcb-452c-817d-a7b20982fb0c",
   "metadata": {},
   "outputs": [
    {
     "data": {
      "text/html": [
       "<div>\n",
       "<style scoped>\n",
       "    .dataframe tbody tr th:only-of-type {\n",
       "        vertical-align: middle;\n",
       "    }\n",
       "\n",
       "    .dataframe tbody tr th {\n",
       "        vertical-align: top;\n",
       "    }\n",
       "\n",
       "    .dataframe thead th {\n",
       "        text-align: right;\n",
       "    }\n",
       "</style>\n",
       "<table border=\"1\" class=\"dataframe\">\n",
       "  <thead>\n",
       "    <tr style=\"text-align: right;\">\n",
       "      <th></th>\n",
       "      <th>median</th>\n",
       "      <th>mean</th>\n",
       "      <th>count</th>\n",
       "    </tr>\n",
       "    <tr>\n",
       "      <th>postal_code</th>\n",
       "      <th></th>\n",
       "      <th></th>\n",
       "      <th></th>\n",
       "    </tr>\n",
       "  </thead>\n",
       "  <tbody>\n",
       "    <tr>\n",
       "      <th>1050</th>\n",
       "      <td>4608.70</td>\n",
       "      <td>5037.27</td>\n",
       "      <td>373</td>\n",
       "    </tr>\n",
       "    <tr>\n",
       "      <th>1150</th>\n",
       "      <td>4204.55</td>\n",
       "      <td>4519.77</td>\n",
       "      <td>161</td>\n",
       "    </tr>\n",
       "    <tr>\n",
       "      <th>1160</th>\n",
       "      <td>4071.43</td>\n",
       "      <td>4198.53</td>\n",
       "      <td>109</td>\n",
       "    </tr>\n",
       "    <tr>\n",
       "      <th>1000</th>\n",
       "      <td>3967.95</td>\n",
       "      <td>4294.46</td>\n",
       "      <td>418</td>\n",
       "    </tr>\n",
       "    <tr>\n",
       "      <th>1180</th>\n",
       "      <td>3820.00</td>\n",
       "      <td>4261.27</td>\n",
       "      <td>505</td>\n",
       "    </tr>\n",
       "    <tr>\n",
       "      <th>1040</th>\n",
       "      <td>3809.52</td>\n",
       "      <td>3944.62</td>\n",
       "      <td>135</td>\n",
       "    </tr>\n",
       "    <tr>\n",
       "      <th>1060</th>\n",
       "      <td>3741.79</td>\n",
       "      <td>3815.28</td>\n",
       "      <td>90</td>\n",
       "    </tr>\n",
       "    <tr>\n",
       "      <th>1200</th>\n",
       "      <td>3619.79</td>\n",
       "      <td>3695.78</td>\n",
       "      <td>157</td>\n",
       "    </tr>\n",
       "    <tr>\n",
       "      <th>1170</th>\n",
       "      <td>3605.56</td>\n",
       "      <td>3678.77</td>\n",
       "      <td>23</td>\n",
       "    </tr>\n",
       "    <tr>\n",
       "      <th>1210</th>\n",
       "      <td>3205.49</td>\n",
       "      <td>3175.12</td>\n",
       "      <td>30</td>\n",
       "    </tr>\n",
       "  </tbody>\n",
       "</table>\n",
       "</div>"
      ],
      "text/plain": [
       "             median    mean  count\n",
       "postal_code                       \n",
       "1050        4608.70 5037.27    373\n",
       "1150        4204.55 4519.77    161\n",
       "1160        4071.43 4198.53    109\n",
       "1000        3967.95 4294.46    418\n",
       "1180        3820.00 4261.27    505\n",
       "1040        3809.52 3944.62    135\n",
       "1060        3741.79 3815.28     90\n",
       "1200        3619.79 3695.78    157\n",
       "1170        3605.56 3678.77     23\n",
       "1210        3205.49 3175.12     30"
      ]
     },
     "execution_count": 6,
     "metadata": {},
     "output_type": "execute_result"
    }
   ],
   "source": [
    "ppm = df[df.region == \"Brussels\"].groupby(by=\"postal_code\")[\"ppm\"].agg({'count', 'mean', 'median'})\n",
    "ppm[ppm[\"count\"] > 10].sort_values(by=\"median\", ascending=False).head(10)"
   ]
  },
  {
   "cell_type": "code",
   "execution_count": 7,
   "id": "c96ba2ad-4401-48f7-9752-dbbf0c786e6e",
   "metadata": {},
   "outputs": [],
   "source": [
    "sns.set_theme()"
   ]
  },
  {
   "cell_type": "code",
   "execution_count": 8,
   "id": "805451aa-abd3-482e-bff7-985bd12387ab",
   "metadata": {},
   "outputs": [
    {
     "data": {
      "image/png": "[encoded data removed]",
      "text/plain": [
       "<Figure size 432x288 with 1 Axes>"
      ]
     },
     "metadata": {},
     "output_type": "display_data"
    }
   ],
   "source": [
    "ax = sns.barplot(x=ppm.index, y=\"mean\", data=ppm, order=ppm[ppm[\"count\"] > 10].sort_values(by=\"mean\", ascending=True).iloc[:5].index)\n",
    "plt.title('Lowest Squere Meter Price in Brussels', size=18)\n",
    "plt.savefig(\"lowestPpmBrussels.png\")\n",
    "plt.show()"
   ]
  },
  {
   "cell_type": "code",
   "execution_count": 9,
   "id": "50956a4d-8579-492a-af49-6d26ac5f9229",
   "metadata": {},
   "outputs": [],
   "source": [
    "ppm = df.groupby(by=\"region\")[\"ppm\"].agg({'count', 'mean', 'median'})"
   ]
  },
  {
   "cell_type": "code",
   "execution_count": 10,
   "id": "b407a8eb-873b-4f3f-9f6e-81fc98b3f596",
   "metadata": {},
   "outputs": [
    {
     "data": {
      "text/html": [
       "<div>\n",
       "<style scoped>\n",
       "    .dataframe tbody tr th:only-of-type {\n",
       "        vertical-align: middle;\n",
       "    }\n",
       "\n",
       "    .dataframe tbody tr th {\n",
       "        vertical-align: top;\n",
       "    }\n",
       "\n",
       "    .dataframe thead th {\n",
       "        text-align: right;\n",
       "    }\n",
       "</style>\n",
       "<table border=\"1\" class=\"dataframe\">\n",
       "  <thead>\n",
       "    <tr style=\"text-align: right;\">\n",
       "      <th></th>\n",
       "      <th>median</th>\n",
       "      <th>mean</th>\n",
       "      <th>count</th>\n",
       "    </tr>\n",
       "    <tr>\n",
       "      <th>region</th>\n",
       "      <th></th>\n",
       "      <th></th>\n",
       "      <th></th>\n",
       "    </tr>\n",
       "  </thead>\n",
       "  <tbody>\n",
       "    <tr>\n",
       "      <th>Brussels</th>\n",
       "      <td>3600.00</td>\n",
       "      <td>3892.35</td>\n",
       "      <td>2797</td>\n",
       "    </tr>\n",
       "    <tr>\n",
       "      <th>Flanders</th>\n",
       "      <td>2580.96</td>\n",
       "      <td>3039.45</td>\n",
       "      <td>8336</td>\n",
       "    </tr>\n",
       "    <tr>\n",
       "      <th>Wallonie</th>\n",
       "      <td>1796.81</td>\n",
       "      <td>1913.24</td>\n",
       "      <td>4576</td>\n",
       "    </tr>\n",
       "  </tbody>\n",
       "</table>\n",
       "</div>"
      ],
      "text/plain": [
       "          median    mean  count\n",
       "region                         \n",
       "Brussels 3600.00 3892.35   2797\n",
       "Flanders 2580.96 3039.45   8336\n",
       "Wallonie 1796.81 1913.24   4576"
      ]
     },
     "execution_count": 10,
     "metadata": {},
     "output_type": "execute_result"
    }
   ],
   "source": [
    "ppm.sort_values(by=\"median\", ascending=False)"
   ]
  },
  {
   "cell_type": "code",
   "execution_count": 11,
   "id": "52ba6ac5-7b19-404a-a65d-8190d8bef3c2",
   "metadata": {},
   "outputs": [
    {
     "data": {
      "image/png": "[encoded data removed]",
      "text/plain": [
       "<Figure size 432x288 with 1 Axes>"
      ]
     },
     "metadata": {},
     "output_type": "display_data"
    }
   ],
   "source": [
    "ax = sns.barplot(x=ppm.index, y=\"mean\", data=ppm, order=ppm.sort_values(by=\"mean\", ascending=False).iloc[:5].index)\n",
    "plt.title('Price per Square Meter by Region', size=18)\n",
    "plt.savefig(\"PPMeRegions.png\")\n",
    "plt.show()"
   ]
  },
  {
   "cell_type": "code",
   "execution_count": 15,
   "id": "219c2235-fd2a-4075-87d3-282263ad4e54",
   "metadata": {},
   "outputs": [
    {
     "data": {
      "text/html": [
       "<div>\n",
       "<style scoped>\n",
       "    .dataframe tbody tr th:only-of-type {\n",
       "        vertical-align: middle;\n",
       "    }\n",
       "\n",
       "    .dataframe tbody tr th {\n",
       "        vertical-align: top;\n",
       "    }\n",
       "\n",
       "    .dataframe thead th {\n",
       "        text-align: right;\n",
       "    }\n",
       "</style>\n",
       "<table border=\"1\" class=\"dataframe\">\n",
       "  <thead>\n",
       "    <tr style=\"text-align: right;\">\n",
       "      <th></th>\n",
       "      <th>count</th>\n",
       "    </tr>\n",
       "    <tr>\n",
       "      <th>province</th>\n",
       "      <th></th>\n",
       "    </tr>\n",
       "  </thead>\n",
       "  <tbody>\n",
       "    <tr>\n",
       "      <th>West Flanders</th>\n",
       "      <td>3404</td>\n",
       "    </tr>\n",
       "    <tr>\n",
       "      <th>Brussels</th>\n",
       "      <td>2916</td>\n",
       "    </tr>\n",
       "    <tr>\n",
       "      <th>East Flanders</th>\n",
       "      <td>2585</td>\n",
       "    </tr>\n",
       "    <tr>\n",
       "      <th>Flemish Brabant</th>\n",
       "      <td>1641</td>\n",
       "    </tr>\n",
       "    <tr>\n",
       "      <th>Liège</th>\n",
       "      <td>1584</td>\n",
       "    </tr>\n",
       "    <tr>\n",
       "      <th>Antwerp</th>\n",
       "      <td>1577</td>\n",
       "    </tr>\n",
       "    <tr>\n",
       "      <th>Hainaut</th>\n",
       "      <td>1512</td>\n",
       "    </tr>\n",
       "    <tr>\n",
       "      <th>Walloon Brabant</th>\n",
       "      <td>1048</td>\n",
       "    </tr>\n",
       "    <tr>\n",
       "      <th>Luxembourg</th>\n",
       "      <td>518</td>\n",
       "    </tr>\n",
       "    <tr>\n",
       "      <th>Namur</th>\n",
       "      <td>410</td>\n",
       "    </tr>\n",
       "    <tr>\n",
       "      <th>Limburg</th>\n",
       "      <td>320</td>\n",
       "    </tr>\n",
       "  </tbody>\n",
       "</table>\n",
       "</div>"
      ],
      "text/plain": [
       "                 count\n",
       "province              \n",
       "West Flanders     3404\n",
       "Brussels          2916\n",
       "East Flanders     2585\n",
       "Flemish Brabant   1641\n",
       "Liège             1584\n",
       "Antwerp           1577\n",
       "Hainaut           1512\n",
       "Walloon Brabant   1048\n",
       "Luxembourg         518\n",
       "Namur              410\n",
       "Limburg            320"
      ]
     },
     "execution_count": 15,
     "metadata": {},
     "output_type": "execute_result"
    }
   ],
   "source": [
    "df.groupby(by=\"province\")[\"price\"].agg({\"count\"}).sort_values(\"count\", ascending=False)"
   ]
  },
  {
   "cell_type": "code",
   "execution_count": null,
   "id": "c4c3e8e1-f71d-4b27-b569-59dc72eb76af",
   "metadata": {},
   "outputs": [],
   "source": []
  }
 ],
 "metadata": {
  "kernelspec": {
   "display_name": "Python 3",
   "language": "python",
   "name": "python3"
  },
  "language_info": {
   "codemirror_mode": {
    "name": "ipython",
    "version": 3
   },
   "file_extension": ".py",
   "mimetype": "text/x-python",
   "name": "python",
   "nbconvert_exporter": "python",
   "pygments_lexer": "ipython3",
   "version": "3.7.1rc1"
  }
 },
 "nbformat": 4,
 "nbformat_minor": 5
}
