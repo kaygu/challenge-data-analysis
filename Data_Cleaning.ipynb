{
 "cells": [
  {
   "cell_type": "markdown",
   "id": "f4e0e5fb-df3c-4b61-86aa-cadf996ac7e7",
   "metadata": {},
   "source": [
    "# Data Cleaning Notebook"
   ]
  },
  {
   "cell_type": "code",
   "execution_count": 2,
   "id": "73b4d21d-e9a7-46b5-a0cb-1d495e1ef87f",
   "metadata": {},
   "outputs": [],
   "source": [
    "import numpy as np\n",
    "import pandas as pd"
   ]
  },
  {
   "cell_type": "code",
   "execution_count": 4,
   "id": "179622f7-741c-4d05-9320-d58bec36510c",
   "metadata": {},
   "outputs": [
    {
     "data": {
      "text/plain": [
       "(18302, 32)"
      ]
     },
     "execution_count": 4,
     "metadata": {},
     "output_type": "execute_result"
    }
   ],
   "source": [
    "df = pd.read_csv(\"sales.csv\")\n",
    "#df.head()\n",
    "df.shape"
   ]
  },
  {
   "cell_type": "code",
   "execution_count": 141,
   "id": "57e15d76-4ed9-4793-bb70-7d56c7159379",
   "metadata": {},
   "outputs": [],
   "source": [
    "# Remove Unnamed column and set index\n",
    "del df[\"Unnamed: 0\"]\n",
    "df.set_index(\"id\", inplace=True)"
   ]
  },
  {
   "cell_type": "code",
   "execution_count": 142,
   "id": "3fba2804-744c-447a-857a-4a959997c88d",
   "metadata": {},
   "outputs": [],
   "source": [
    "# Replace NaN values and booleans\n",
    "df = df.replace(False, 0)\n",
    "df = df.replace(True, 1)\n",
    "df = df.replace(np.nan, 0)\n",
    "\n",
    "# Lowercase locality column\n",
    "df[\"locality\"] = df[\"locality\"].map(lambda x: x.lower())"
   ]
  },
  {
   "cell_type": "code",
   "execution_count": 143,
   "id": "778ac42d-6503-4fb4-8d1f-f12655a142f4",
   "metadata": {},
   "outputs": [],
   "source": [
    "# Force types\n",
    "types = {\"bedroom_count\": 'int64', \"bathroom_count\": 'int64', \"showerroom_count\": 'int64', \"facades\": 'int64', \"construction_year\": 'int64', \"living_surface\": 'float64', \"garden_surface\": 'float64', \"terrace_surface\": 'float64', \"attic\": 'int64', \"basement\": 'int64', \"swimming_pool\": 'int64', \"fireplace\": 'int64', \"fitness_room\": 'int64', \"tennis_court\": 'int64', \"sauna\": 'int64', \"jacuzzi\": 'int64', \"hammam\": 'int64'}\n",
    "df = df.astype(types)"
   ]
  },
  {
   "cell_type": "code",
   "execution_count": 144,
   "id": "d738263b-ba3c-44fe-b557-2e3db1e2b07e",
   "metadata": {},
   "outputs": [],
   "source": [
    "shp1 = df.shape[0]"
   ]
  },
  {
   "cell_type": "code",
   "execution_count": 145,
   "id": "1710f2b3-ca81-4523-8ac2-04cc8f0ee4b1",
   "metadata": {},
   "outputs": [],
   "source": [
    "# Drop all the rows where all the below columns are the same\n",
    "df = df.drop_duplicates([\"postal_code\", \"street_name\", \"street_number\", \"facades\", \"living_surface\", \"terrace_surface\", \"subtype\"], keep=\"last\")\n",
    "\n",
    "#Delete prices equal to 0\n",
    "df = df[df.price != 0]"
   ]
  },
  {
   "cell_type": "code",
   "execution_count": 146,
   "id": "91deae58-fa13-48fa-9763-3dd44a710eb2",
   "metadata": {},
   "outputs": [],
   "source": [
    "shp2 = df.shape[0]"
   ]
  },
  {
   "cell_type": "code",
   "execution_count": 147,
   "id": "aa9829f9-42b5-4f02-9f75-a09fb0b4fa13",
   "metadata": {},
   "outputs": [
    {
     "name": "stdout",
     "output_type": "stream",
     "text": [
      "Cleaned 787 duplicates\n"
     ]
    }
   ],
   "source": [
    "print(f\"Cleaned {shp1 - shp2} duplicates\")"
   ]
  },
  {
   "cell_type": "code",
   "execution_count": 148,
   "id": "09a249dd-8b3d-4079-9a2c-455b65fa4471",
   "metadata": {},
   "outputs": [],
   "source": [
    "df.to_csv(\"cleaned_sales.csv\")"
   ]
  }
 ],
 "metadata": {
  "kernelspec": {
   "display_name": "Python 3",
   "language": "python",
   "name": "python3"
  },
  "language_info": {
   "codemirror_mode": {
    "name": "ipython",
    "version": 3
   },
   "file_extension": ".py",
   "mimetype": "text/x-python",
   "name": "python",
   "nbconvert_exporter": "python",
   "pygments_lexer": "ipython3",
   "version": "3.7.1rc1"
  }
 },
 "nbformat": 4,
 "nbformat_minor": 5
}
